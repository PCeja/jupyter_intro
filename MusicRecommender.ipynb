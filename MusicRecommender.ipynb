{
 "cells": [
  {
   "cell_type": "code",
   "execution_count": 10,
   "id": "fc5cad88",
   "metadata": {},
   "outputs": [
    {
     "data": {
      "text/plain": [
       "array(['Dance'], dtype=object)"
      ]
     },
     "execution_count": 10,
     "metadata": {},
     "output_type": "execute_result"
    }
   ],
   "source": [
    "import pandas as pd\n",
    "from sklearn.tree import DecisionTreeClassifier\n",
    "from sklearn.model_selection import train_test_split\n",
    "# from sklearn.metrics import accuracy_score\n",
    "# import joblib\n",
    "from sklearn import tree\n",
    "\n",
    "# Arange : \n",
    "## Import\n",
    "## Clean\n",
    "## Split\n",
    "music_data = pd.read_csv('music.csv')\n",
    "X = music_data.drop(columns=['genre'])\n",
    "y = music_data['genre']\n",
    "X_train, X_test, y_train, y_test = train_test_split(X,y,test_size = 0.2)\n",
    "\n",
    "# Act:\n",
    "## Create/Pick Model\n",
    "## Train the model\n",
    "model = DecisionTreeClassifier()\n",
    "model.fit(X_train,y_train)\n",
    "\n",
    "# joblib.dump(model,'music-recommender.joblib')\n",
    "# model = joblib.load('music-recommender.joblib')\n",
    "\n",
    "# tree.export_graphviz(model,out_file='music-recommender.dot',\n",
    "#                    feature_names=['age','gender'],\n",
    "#                    class_names=sorted(y.unique()),\n",
    "#                    label='all',\n",
    "#                    rounded= True,\n",
    "#                    filled=True)\n",
    "\n",
    "## Make Predictions\n",
    "predictions = model.predict([[22,0]])\n",
    "predictions\n",
    "\n",
    "# Asset\n",
    "## Evaluate accuracy\n",
    "\n",
    "# score = accuracy_score(y_test, predictions)\n",
    "# score"
   ]
  }
 ],
 "metadata": {
  "kernelspec": {
   "display_name": "Python 3 (ipykernel)",
   "language": "python",
   "name": "python3"
  },
  "language_info": {
   "codemirror_mode": {
    "name": "ipython",
    "version": 3
   },
   "file_extension": ".py",
   "mimetype": "text/x-python",
   "name": "python",
   "nbconvert_exporter": "python",
   "pygments_lexer": "ipython3",
   "version": "3.9.7"
  }
 },
 "nbformat": 4,
 "nbformat_minor": 5
}
